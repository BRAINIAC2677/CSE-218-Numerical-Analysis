{
 "cells": [
  {
   "cell_type": "markdown",
   "metadata": {},
   "source": [
    "## Solving Systems of Linear Equations By Gaussian Elimintaion\n",
    "\n",
    "### __Follow the steps:__\n",
    "- Replace the A and B vector with your equation data considering the format AX = B\n",
    "- That's it. You can visulaize the intermediate steps by changing showall to True.\n",
    "- Find the determinant of a square matrix."
   ]
  },
  {
   "cell_type": "code",
   "execution_count": 45,
   "metadata": {},
   "outputs": [],
   "source": [
    "import numpy as np"
   ]
  },
  {
   "cell_type": "code",
   "execution_count": 46,
   "metadata": {},
   "outputs": [],
   "source": [
    "def GaussianElimination(A, B,showall = False, pivot = True):\n",
    "    n = A.shape[0]\n",
    "    A = np.float64(A)\n",
    "    B = np.float64(B)\n",
    "    if showall is True:\n",
    "        print(\"Start of Forward Elimination:\\n\")\n",
    "    for i in range(n-1):\n",
    "        if pivot is True:\n",
    "            max_row_index = np.argmax(np.abs(A[i:, i])) + i\n",
    "            A[[i, max_row_index]] = A[[max_row_index, i]]\n",
    "            B[[i, max_row_index]] = B[[max_row_index, i]]\n",
    "        \n",
    "        for j in range(i+1, n):\n",
    "            multiplier = A[j, i] / A[i,i]\n",
    "            subtracted_term = A[i, i:] * multiplier\n",
    "            A[j, i:] = A[j, i:] - subtracted_term\n",
    "            subtracted_term = B[i]*multiplier\n",
    "            B[j] = B[j] - subtracted_term\n",
    "            if showall is True:\n",
    "                print(f'Step: {i+1} Substep: {j-i}\\nA:\\n{A}\\nB:\\n{B}\\n')\n",
    "    if showall is True:\n",
    "        print(\"End of Forward Elimination\\n\")\n",
    "    X = np.zeros((n,1))\n",
    "    for i in range(n-1, -1, -1):\n",
    "        X[i] = B[i]\n",
    "        tempA = A[i, i+1:]\n",
    "        tempX = X[i+1:, 0]\n",
    "        tempA = tempA.reshape(1, tempA.shape[0])\n",
    "        tempX = tempX.reshape(tempX.shape[0], 1)\n",
    "        X[i] = X[i] - np.matmul(tempA, tempX)\n",
    "        X[i] = X[i] / A[i, i]\n",
    "    return X"
   ]
  },
  {
   "cell_type": "code",
   "execution_count": 47,
   "metadata": {},
   "outputs": [],
   "source": [
    "def determinant(A, pivot = True):\n",
    "    '''returns the determinant of square matrix A'''\n",
    "    n = A.shape[0]\n",
    "    A = np.float64(A)\n",
    "    for i in range(n-1):\n",
    "        if pivot is True:\n",
    "            max_row_index = np.argmax(np.abs(A[i:, i])) + i\n",
    "            A[[i, max_row_index]] = A[[max_row_index, i]]\n",
    "        \n",
    "        for j in range(i+1, n):\n",
    "            multiplier = A[j, i] / A[i,i]\n",
    "            subtracted_term = A[i, i:] * multiplier\n",
    "            A[j, i:] = A[j, i:] - subtracted_term\n",
    "    det = 1\n",
    "    for i in range(n):\n",
    "        det = det * A[i][i]\n",
    "    return det"
   ]
  },
  {
   "cell_type": "code",
   "execution_count": 48,
   "metadata": {},
   "outputs": [],
   "source": [
    "def solve(A, B):\n",
    "    np.set_printoptions(formatter={'float': lambda x: \"{0:0.4f}\".format(x)})\n",
    "    X = GaussianElimination(A, B)\n",
    "    print(f'The solution vector:\\n{X}')"
   ]
  },
  {
   "cell_type": "code",
   "execution_count": 49,
   "metadata": {},
   "outputs": [
    {
     "name": "stdout",
     "output_type": "stream",
     "text": [
      "The solution vector:\n",
      "[[-4.0000]\n",
      " [-6.0000]\n",
      " [-12.0000]]\n"
     ]
    }
   ],
   "source": [
    "A = np.array([[-2, 0, 1], [-1, 7, 1], [5,-1, 1]])\n",
    "B = np.array([[-4], [-50], [-26]])\n",
    "solve(A, B)"
   ]
  },
  {
   "cell_type": "code",
   "execution_count": 50,
   "metadata": {},
   "outputs": [
    {
     "name": "stdout",
     "output_type": "stream",
     "text": [
      "The determinant: 50.0000\n"
     ]
    }
   ],
   "source": [
    "A = np.array([[-2, 0, 1], [-1, 7, 1], [5,-1, 1]])\n",
    "det = determinant(A)\n",
    "print(f'The determinant: {det:0.4f}')"
   ]
  }
 ],
 "metadata": {
  "interpreter": {
   "hash": "778e5173b1e1947a0d028f5df08fd323cf026bbc92c4c70b3bd1bdd860e920fb"
  },
  "kernelspec": {
   "display_name": "Python 3.8.8 64-bit ('base': conda)",
   "language": "python",
   "name": "python3"
  },
  "language_info": {
   "codemirror_mode": {
    "name": "ipython",
    "version": 3
   },
   "file_extension": ".py",
   "mimetype": "text/x-python",
   "name": "python",
   "nbconvert_exporter": "python",
   "pygments_lexer": "ipython3",
   "version": "3.9.7"
  },
  "orig_nbformat": 4
 },
 "nbformat": 4,
 "nbformat_minor": 2
}
