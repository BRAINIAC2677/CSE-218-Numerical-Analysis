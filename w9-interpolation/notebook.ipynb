{
 "cells": [
  {
   "cell_type": "markdown",
   "metadata": {},
   "source": [
    "## Interpolation using Newton's Divided Difference and Lagrange Method\n"
   ]
  },
  {
   "cell_type": "code",
   "execution_count": 43,
   "metadata": {},
   "outputs": [],
   "source": [
    "import numpy as np\n",
    "import sys"
   ]
  },
  {
   "cell_type": "code",
   "execution_count": 44,
   "metadata": {},
   "outputs": [],
   "source": [
    "#high chances of getting TLE. can be optimized using 2D DP\n",
    "def calcDividedDifference(l, h, xs, ys):\n",
    "    if l == h:\n",
    "        return ys[l]\n",
    "    return (calcDividedDifference(l+1, h, xs, ys) - calcDividedDifference(l, h-1, xs, ys))/(xs[h] - xs[l])"
   ]
  },
  {
   "cell_type": "code",
   "execution_count": 45,
   "metadata": {},
   "outputs": [],
   "source": [
    "def newtonsInterpolation(xs, ys, uxs):\n",
    "    '''use all the points of xs and ys in interpolating uxs. if n points are given, it will use (n-1)th order polynomial interpolant.'''\n",
    "    xs = np.float128(xs)\n",
    "    ys = np.float128(ys)\n",
    "    assert xs.shape[0] == ys.shape[0], \"xs and ys dimensions don't match\"\n",
    "    minx = sys.float_info.max\n",
    "    maxx = sys.float_info.min\n",
    "    for val in xs:\n",
    "        minx = val if val < minx else minx\n",
    "        maxx = val if val > maxx else maxx\n",
    "    for val in uxs:\n",
    "        assert val >= minx and val <= maxx, 'one or more points are outside interpolating points range'\n",
    "    n = xs.shape[0]\n",
    "    b = np.zeros(n)\n",
    "    for i in range(n):\n",
    "        b[i] = calcDividedDifference(0, i, xs, ys)\n",
    "    m = uxs.shape[0]\n",
    "    uys = np.zeros(m)\n",
    "    for i in range(m):\n",
    "        cur = 1\n",
    "        for j in range(n):\n",
    "            uys[i] = uys[i] + b[j]*cur\n",
    "            cur = cur*(uxs[i] - xs[j])\n",
    "    return uys\n"
   ]
  },
  {
   "cell_type": "code",
   "execution_count": 46,
   "metadata": {},
   "outputs": [],
   "source": [
    "def weightingFunction(index, x, xs):\n",
    "    ret = 1\n",
    "    n = xs.shape[0]\n",
    "    for i in range(n):\n",
    "        if i != index:\n",
    "            ret = ret*(x-xs[i])/(xs[index] - xs[i])\n",
    "    return ret"
   ]
  },
  {
   "cell_type": "code",
   "execution_count": 47,
   "metadata": {},
   "outputs": [],
   "source": [
    "def lagrangeInterpolation(xs, ys, uxs):\n",
    "    '''use all the points of xs and ys in interpolating uxs. if n points are given, it will use (n-1)th order polynomial interpolant.'''\n",
    "    n = xs.shape[0]\n",
    "    m = uxs.shape[0]\n",
    "    uys = np.zeros(m)\n",
    "    for i in range(m):\n",
    "        for j in range(n):\n",
    "            cur = ys[j] * weightingFunction(j, uxs[i], xs)\n",
    "            uys[i] = uys[i] + cur\n",
    "    return uys"
   ]
  },
  {
   "cell_type": "code",
   "execution_count": 48,
   "metadata": {},
   "outputs": [
    {
     "name": "stdout",
     "output_type": "stream",
     "text": [
      "The interpolated values: [279.0764 392.1876]\n"
     ]
    }
   ],
   "source": [
    "#edit the xs, ys and uxs values as required\n",
    "xs = np.array([10, 15, 20])\n",
    "ys = np.array([227.04, 362.78, 517.35])\n",
    "uxs = np.array([12, 16])\n",
    "uys = newtonsInterpolation(xs, ys, uxs)\n",
    "print(f'The interpolated values: {uys}')"
   ]
  },
  {
   "cell_type": "code",
   "execution_count": 49,
   "metadata": {},
   "outputs": [
    {
     "name": "stdout",
     "output_type": "stream",
     "text": [
      "The interpolated values: [279.0764 392.1876]\n"
     ]
    }
   ],
   "source": [
    "#edit the xs, ys and uxs values as required\n",
    "xs = np.array([10, 15, 20])\n",
    "ys = np.array([227.04, 362.78, 517.35])\n",
    "uxs = np.array([12, 16])\n",
    "uys = lagrangeInterpolation(xs, ys, uxs)\n",
    "print(f'The interpolated values: {uys}')"
   ]
  }
 ],
 "metadata": {
  "interpreter": {
   "hash": "e96423403d814d2c3153232624da35df59b2e8c898c9b37c73e1e09ca6cd4909"
  },
  "kernelspec": {
   "display_name": "Python 3.9.7 64-bit ('base': conda)",
   "language": "python",
   "name": "python3"
  },
  "language_info": {
   "codemirror_mode": {
    "name": "ipython",
    "version": 3
   },
   "file_extension": ".py",
   "mimetype": "text/x-python",
   "name": "python",
   "nbconvert_exporter": "python",
   "pygments_lexer": "ipython3",
   "version": "3.9.7"
  },
  "orig_nbformat": 4
 },
 "nbformat": 4,
 "nbformat_minor": 2
}
