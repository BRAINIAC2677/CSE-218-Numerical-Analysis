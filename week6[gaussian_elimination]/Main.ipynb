{
 "cells": [
  {
   "cell_type": "code",
   "execution_count": 1,
   "metadata": {},
   "outputs": [],
   "source": [
    "import numpy as np"
   ]
  },
  {
   "cell_type": "code",
   "execution_count": 2,
   "metadata": {},
   "outputs": [],
   "source": [
    "def GaussianElimination(A, B, pivot = True, showall = True):\n",
    "    n = A.shape[0]\n",
    "    A = np.float64(A)\n",
    "    B = np.float64(B)\n",
    "    if showall is True:\n",
    "        print(\"Start of Forward Elimination:\\n\")\n",
    "    for i in range(n-1):\n",
    "        if pivot is True:\n",
    "            max_row_index = np.argmax(np.abs(A[i:, i])) + i\n",
    "            A[[i, max_row_index]] = A[[max_row_index, i]]\n",
    "            B[[i, max_row_index]] = B[[max_row_index, i]]\n",
    "        \n",
    "        for j in range(i+1, n):\n",
    "            multiplier = A[j, i] / A[i,i]\n",
    "            subtracted_term = A[i, i:] * multiplier\n",
    "            A[j, i:] = A[j, i:] - subtracted_term\n",
    "            subtracted_term = B[i]*multiplier\n",
    "            B[j] = B[j] - subtracted_term\n",
    "            if showall is True:\n",
    "                print(f'Step: {i+1} Substep: {j-i}\\nA:\\n{A}\\nB:\\n{B}\\n')\n",
    "    if showall is True:\n",
    "        print(\"End of Forward Elimination\\n\")\n",
    "    X = np.zeros((n,1))\n",
    "    for i in range(n-1, -1, -1):\n",
    "        X[i] = B[i]\n",
    "        tempA = A[i, i+1:]\n",
    "        tempX = X[i+1:, 0]\n",
    "        tempA = tempA.reshape(1, tempA.shape[0])\n",
    "        tempX = tempX.reshape(tempX.shape[0], 1)\n",
    "        X[i] = X[i] - np.matmul(tempA, tempX)\n",
    "        X[i] = X[i] / A[i, i]\n",
    "    return X"
   ]
  },
  {
   "cell_type": "code",
   "execution_count": 3,
   "metadata": {},
   "outputs": [],
   "source": [
    "def take_input():\n",
    "    n = int(input())\n",
    "    A = np.zeros((n,n))\n",
    "    B = np.zeros((n,1))\n",
    "    for i in range(n):\n",
    "        row = list(map(float, input().strip().split()[:n]))\n",
    "        A[i] = row\n",
    "    for i in range(n):\n",
    "        row = float(input().strip())\n",
    "        B[i] = row\n",
    "    return n,A, B"
   ]
  },
  {
   "cell_type": "code",
   "execution_count": 4,
   "metadata": {},
   "outputs": [],
   "source": [
    "def Main():\n",
    "    n = 3\n",
    "    A = np.array([[-2, 0, 1], [-1, 7, 1], [5,-1, 1]])\n",
    "    B = np.array([[-4], [-50], [-26]])\n",
    "    #n,A, B = take_input()\n",
    "    np.set_printoptions(formatter={'float': lambda x: \"{0:0.4f}\".format(x)})\n",
    "    X = GaussianElimination(A, B)\n",
    "    print(\"The Solution Vector:\")\n",
    "    for i in range(n):\n",
    "        print(f'{X[i][0]:0.4f}')"
   ]
  },
  {
   "cell_type": "code",
   "execution_count": 5,
   "metadata": {},
   "outputs": [
    {
     "name": "stdout",
     "output_type": "stream",
     "text": [
      "Start of Forward Elimination:\n",
      "\n",
      "Step: 1 Substep: 1\n",
      "A:\n",
      "[[5.0000 -1.0000 1.0000]\n",
      " [0.0000 6.8000 1.2000]\n",
      " [-2.0000 0.0000 1.0000]]\n",
      "B:\n",
      "[[-26.0000]\n",
      " [-55.2000]\n",
      " [-4.0000]]\n",
      "\n",
      "Step: 1 Substep: 2\n",
      "A:\n",
      "[[5.0000 -1.0000 1.0000]\n",
      " [0.0000 6.8000 1.2000]\n",
      " [0.0000 -0.4000 1.4000]]\n",
      "B:\n",
      "[[-26.0000]\n",
      " [-55.2000]\n",
      " [-14.4000]]\n",
      "\n",
      "Step: 2 Substep: 1\n",
      "A:\n",
      "[[5.0000 -1.0000 1.0000]\n",
      " [0.0000 6.8000 1.2000]\n",
      " [0.0000 0.0000 1.4706]]\n",
      "B:\n",
      "[[-26.0000]\n",
      " [-55.2000]\n",
      " [-17.6471]]\n",
      "\n",
      "End of Forward Elimination\n",
      "\n",
      "The Solution Vector:\n",
      "-4.0000\n",
      "-6.0000\n",
      "-12.0000\n"
     ]
    }
   ],
   "source": [
    "Main()"
   ]
  },
  {
   "cell_type": "code",
   "execution_count": null,
   "metadata": {},
   "outputs": [],
   "source": []
  }
 ],
 "metadata": {
  "interpreter": {
   "hash": "778e5173b1e1947a0d028f5df08fd323cf026bbc92c4c70b3bd1bdd860e920fb"
  },
  "kernelspec": {
   "display_name": "Python 3.8.8 64-bit ('base': conda)",
   "language": "python",
   "name": "python3"
  },
  "language_info": {
   "codemirror_mode": {
    "name": "ipython",
    "version": 3
   },
   "file_extension": ".py",
   "mimetype": "text/x-python",
   "name": "python",
   "nbconvert_exporter": "python",
   "pygments_lexer": "ipython3",
   "version": "3.8.8"
  },
  "orig_nbformat": 4
 },
 "nbformat": 4,
 "nbformat_minor": 2
}
