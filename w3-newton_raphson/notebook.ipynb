{
 "cells": [
  {
   "cell_type": "markdown",
   "metadata": {},
   "source": [
    "## **Newton Raphson Method for Finding root of a One Variable Equation**\n",
    "#### _Follow These Steps:_\n",
    "- Replace the f(x) and fd(x) with the function to be solved and it's first derivative respectively\n",
    "- Visualize the function to select a good initial root_guess for newtonRaphson\n",
    "- Replace the root_guess of newtonRaphson with your root_guess\n",
    "- Optional: Change the error_tolerance and max_iter if necessary"
   ]
  },
  {
   "cell_type": "code",
   "execution_count": 85,
   "metadata": {},
   "outputs": [],
   "source": [
    "import numpy as np\n",
    "import matplotlib.pyplot as plt"
   ]
  },
  {
   "cell_type": "code",
   "execution_count": 86,
   "metadata": {},
   "outputs": [],
   "source": [
    "def visualize(fun, x_low, x_high):\n",
    "    '''parameters:\n",
    "        fun: function which takes x as input and returns f(x) as output.\n",
    "        x_low: lowest x value in the graph\n",
    "        x_high: highest x value in the graph'''\n",
    "    no_of_generated_points = 50\n",
    "    font = {'family': 'serif',\n",
    "    'color':  'darkred',\n",
    "    'weight': 'bold',\n",
    "    'size': 18,\n",
    "    }\n",
    "    plt.figure(figsize=(12, 7))\n",
    "    plt.plot(np.linspace(x_low, x_high, no_of_generated_points), fun(np.linspace(x_low, x_high, no_of_generated_points)), 'g', np.linspace(x_low, x_high, no_of_generated_points), [0 for i in range(no_of_generated_points)], 'r')\n",
    "    plt.legend(['f(x)', 'x-axis'], loc =\"upper right\")\n",
    "    plt.title('Plot of f(x)', fontdict=font)\n",
    "    plt.ylabel('f(x)', fontdict=font)\n",
    "    plt.xlabel('x', fontdict=font)\n",
    "    plt.grid()\n",
    "    plt.show()"
   ]
  },
  {
   "cell_type": "code",
   "execution_count": 87,
   "metadata": {},
   "outputs": [],
   "source": [
    "def newtonRaphson(root_guess, fun, derivative_fun, error_tolerance, max_iter = 150):\n",
    "    '''parameters:\n",
    "        root_guess: initial root guess\n",
    "        fun: function to be solved\n",
    "        derivative_fun: first derivative function of the function to be solved'''\n",
    "    assert max_iter > 0, 'invalid max_iter'\n",
    "    assert error_tolerance > 0, 'invalid error_tolerance'\n",
    "    for i in range(max_iter):\n",
    "        assert fun(root_guess)/derivative_fun(root_guess) != 0, 'zero division error'\n",
    "        prev_root = root_guess\n",
    "        root_guess = root_guess - fun(root_guess)/derivative_fun(root_guess)\n",
    "        ea = np.abs((root_guess - prev_root)/root_guess)*100\n",
    "        print(f'Iteration: {i+1}\\nError: {ea:.6f}\\n')\n",
    "        if ea <= error_tolerance:\n",
    "            return root_guess\n",
    "    return root_guess"
   ]
  },
  {
   "cell_type": "code",
   "execution_count": 88,
   "metadata": {},
   "outputs": [],
   "source": [
    "def f(x):\n",
    "    return x**3 - 0.18*(x**2) + 4.752*(10**(-4))"
   ]
  },
  {
   "cell_type": "code",
   "execution_count": 89,
   "metadata": {},
   "outputs": [],
   "source": [
    "def fd(x):\n",
    "    return 3*x**2 - 0.18*2*x"
   ]
  },
  {
   "cell_type": "code",
   "execution_count": 90,
   "metadata": {},
   "outputs": [
    {
     "data": {
      "image/png": "[encoded data removed]",
      "text/plain": [
       "<Figure size 864x504 with 1 Axes>"
      ]
     },
     "metadata": {
      "needs_background": "light"
     },
     "output_type": "display_data"
    }
   ],
   "source": [
    "visualize(f, -1, 1)"
   ]
  },
  {
   "cell_type": "code",
   "execution_count": 91,
   "metadata": {},
   "outputs": [
    {
     "name": "stdout",
     "output_type": "stream",
     "text": [
      "Iteration: 1\n",
      "Error: 22.245261\n",
      "\n",
      "Iteration: 2\n",
      "Error: 0.467011\n",
      "\n",
      "One possible root: 0.064006\n"
     ]
    }
   ],
   "source": [
    "root = newtonRaphson(0.05, f, fd, 5) #in case of having multiple roots, which root will be found depends on the guess\n",
    "print(f'One possible root: {root:0.6f}')"
   ]
  },
  {
   "cell_type": "code",
   "execution_count": 92,
   "metadata": {},
   "outputs": [
    {
     "name": "stdout",
     "output_type": "stream",
     "text": [
      "Iteration: 1\n",
      "Error: 45.092829\n",
      "\n",
      "Iteration: 2\n",
      "Error: 42.609204\n",
      "\n",
      "Iteration: 3\n",
      "Error: 38.917337\n",
      "\n",
      "Iteration: 4\n",
      "Error: 33.567863\n",
      "\n",
      "Iteration: 5\n",
      "Error: 26.194224\n",
      "\n",
      "Iteration: 6\n",
      "Error: 16.943466\n",
      "\n",
      "Iteration: 7\n",
      "Error: 7.449228\n",
      "\n",
      "Iteration: 8\n",
      "Error: 1.429601\n",
      "\n",
      "One possible root: 0.161944\n"
     ]
    }
   ],
   "source": [
    "root = newtonRaphson(1, f, fd, 5)\n",
    "print(f'One possible root: {root:0.6f}')"
   ]
  }
 ],
 "metadata": {
  "interpreter": {
   "hash": "7329479a0f7870bd98cd79a72ff33c40a86c76b8df8a0aa77ed7b2595b8bb663"
  },
  "kernelspec": {
   "display_name": "Python 3.9.7 ('base')",
   "language": "python",
   "name": "python3"
  },
  "language_info": {
   "codemirror_mode": {
    "name": "ipython",
    "version": 3
   },
   "file_extension": ".py",
   "mimetype": "text/x-python",
   "name": "python",
   "nbconvert_exporter": "python",
   "pygments_lexer": "ipython3",
   "version": "3.9.7"
  },
  "orig_nbformat": 4
 },
 "nbformat": 4,
 "nbformat_minor": 2
}
