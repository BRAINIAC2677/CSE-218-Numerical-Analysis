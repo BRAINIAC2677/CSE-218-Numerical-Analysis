{
 "cells": [
  {
   "cell_type": "code",
   "execution_count": 5,
   "metadata": {},
   "outputs": [],
   "source": [
    "import matplotlib.pyplot as plt\n",
    "import numpy as np"
   ]
  },
  {
   "cell_type": "code",
   "execution_count": 6,
   "metadata": {},
   "outputs": [],
   "source": [
    "def fun(x):\n",
    "    fx = x**3 - 0.18*(x**2) + 4.752*(10**(-4))\n",
    "    return fx"
   ]
  },
  {
   "cell_type": "code",
   "execution_count": 7,
   "metadata": {},
   "outputs": [
    {
     "data": {
      "image/png": "[encoded data removed]",
      "text/plain": [
       "<Figure size 432x288 with 1 Axes>"
      ]
     },
     "metadata": {
      "needs_background": "light"
     },
     "output_type": "display_data"
    }
   ],
   "source": [
    "plt.plot(np.arange(-7, 7), fun(np.arange(-7, 7)), 'r')\n",
    "plt.title('Plot of f(x)')\n",
    "plt.ylabel('f(x)')\n",
    "plt.xlabel('x')\n",
    "plt.show()"
   ]
  },
  {
   "cell_type": "code",
   "execution_count": 26,
   "metadata": {},
   "outputs": [],
   "source": [
    "def bisection(low, high, expected_ea, max_iter):\n",
    "    assert fun(low) * fun(high) <= 0,\"no single root in this interval\"\n",
    "    assert max_iter > 0, \"invalid max_iter\"\n",
    "\n",
    "    prev_midx = None\n",
    "    for i in range(max_iter):\n",
    "        midx = (low + high)/2\n",
    "        if i > 0:\n",
    "            ea = np.absolute((midx - prev_midx)/midx)*100\n",
    "            if ea <= expected_ea:\n",
    "                return midx\n",
    "        decider = fun(midx)*fun(high)\n",
    "        if decider < 0:\n",
    "            low = midx\n",
    "        elif decider > 0:\n",
    "            high = midx\n",
    "        else:\n",
    "            return midx\n",
    "        prev_midx = midx\n",
    "    return prev_midx"
   ]
  },
  {
   "cell_type": "code",
   "execution_count": 74,
   "metadata": {},
   "outputs": [
    {
     "name": "stdout",
     "output_type": "stream",
     "text": [
      "0.1614990234375\n"
     ]
    }
   ],
   "source": [
    "print(bisection(-1, 4, 0.5, 20))"
   ]
  },
  {
   "cell_type": "code",
   "execution_count": 78,
   "metadata": {},
   "outputs": [],
   "source": [
    "def visualBisection(low, high, expected_ea, max_iter):\n",
    "    assert fun(low) * fun(high) <= 0,\"no single root in this interval\"\n",
    "    assert max_iter > 0, \"invalid max_iter\"\n",
    "\n",
    "    prev_midx = None\n",
    "    for i in range(max_iter):\n",
    "        midx = (low + high)/2\n",
    "        if i > 0:\n",
    "            ea = np.absolute((midx - prev_midx)/midx)*100\n",
    "            if i < 21:\n",
    "                print(f'Iteration: {i}\\nError: {ea:.6f}\\n')\n",
    "            if ea <= expected_ea:\n",
    "                return midx\n",
    "        decider = fun(midx)*fun(high)\n",
    "        if decider < 0:\n",
    "            low = midx\n",
    "        elif decider > 0:\n",
    "            high = midx\n",
    "        else:\n",
    "            return midx\n",
    "        prev_midx = midx\n",
    "    return prev_midx"
   ]
  },
  {
   "cell_type": "code",
   "execution_count": 80,
   "metadata": {},
   "outputs": [
    {
     "name": "stdout",
     "output_type": "stream",
     "text": [
      "Iteration: 1\n",
      "Error: 300.000000\n",
      "\n",
      "Iteration: 2\n",
      "Error: 300.000000\n",
      "\n",
      "Iteration: 3\n",
      "Error: 300.000000\n",
      "\n",
      "Iteration: 4\n",
      "Error: 60.000000\n",
      "\n",
      "Iteration: 5\n",
      "Error: 42.857143\n",
      "\n",
      "Iteration: 6\n",
      "Error: 27.272727\n",
      "\n",
      "Iteration: 7\n",
      "Error: 15.789474\n",
      "\n",
      "Iteration: 8\n",
      "Error: 7.317073\n",
      "\n",
      "Iteration: 9\n",
      "Error: 3.529412\n",
      "\n",
      "Iteration: 10\n",
      "Error: 1.796407\n",
      "\n",
      "Iteration: 11\n",
      "Error: 0.906344\n",
      "\n",
      "Iteration: 12\n",
      "Error: 0.451128\n",
      "\n",
      "Iteration: 13\n",
      "Error: 0.226074\n",
      "\n",
      "Iteration: 14\n",
      "Error: 0.113165\n",
      "\n",
      "Iteration: 15\n",
      "Error: 0.056550\n",
      "\n",
      "Iteration: 16\n",
      "Error: 0.028283\n",
      "\n",
      "Iteration: 17\n",
      "Error: 0.014140\n",
      "\n",
      "Iteration: 18\n",
      "Error: 0.007070\n",
      "\n",
      "Iteration: 19\n",
      "Error: 0.003535\n",
      "\n",
      "Iteration: 20\n",
      "Error: 0.001768\n",
      "\n",
      "0.16186213493347168\n"
     ]
    }
   ],
   "source": [
    "print(visualBisection(-1, 5, 0.0005, 50))"
   ]
  },
  {
   "cell_type": "code",
   "execution_count": null,
   "metadata": {},
   "outputs": [],
   "source": []
  }
 ],
 "metadata": {
  "interpreter": {
   "hash": "778e5173b1e1947a0d028f5df08fd323cf026bbc92c4c70b3bd1bdd860e920fb"
  },
  "kernelspec": {
   "display_name": "Python 3.8.8 64-bit ('base': conda)",
   "language": "python",
   "name": "python3"
  },
  "language_info": {
   "codemirror_mode": {
    "name": "ipython",
    "version": 3
   },
   "file_extension": ".py",
   "mimetype": "text/x-python",
   "name": "python",
   "nbconvert_exporter": "python",
   "pygments_lexer": "ipython3",
   "version": "3.8.8"
  },
  "orig_nbformat": 4
 },
 "nbformat": 4,
 "nbformat_minor": 2
}
