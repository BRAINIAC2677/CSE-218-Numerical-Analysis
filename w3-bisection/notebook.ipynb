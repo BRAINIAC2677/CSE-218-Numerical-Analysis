{
 "cells": [
  {
   "cell_type": "markdown",
   "metadata": {},
   "source": [
    "## __Bisection Method for Finding roots of a One Variable Equation__\n",
    "#### *Follow this steps:*\n",
    "- replace the f(x) function with the function to solve.\n",
    "- visualize the root and select the low and high guess for bisection.\n",
    "- replace first 2 parameters of bisection with low and high guess of yours.\n",
    "- optional: change the error tolerance, max iteration parameter of bisection if necessary."
   ]
  },
  {
   "cell_type": "code",
   "execution_count": 76,
   "metadata": {},
   "outputs": [],
   "source": [
    "import matplotlib.pyplot as plt\n",
    "import numpy as np"
   ]
  },
  {
   "cell_type": "code",
   "execution_count": 77,
   "metadata": {},
   "outputs": [],
   "source": [
    "def visualize(fun, x_low, x_high):\n",
    "    '''parameters:\n",
    "        fun: function which takes x as input and returns f(x) as output.\n",
    "        x_low: lowest x value in the graph\n",
    "        x_high: highest x value in the graph'''\n",
    "    no_of_generated_points = 50\n",
    "    font = {'family': 'serif',\n",
    "    'color':  'darkred',\n",
    "    'weight': 'bold',\n",
    "    'size': 18,\n",
    "    }\n",
    "    plt.figure(figsize=(12, 7))\n",
    "    plt.plot(np.linspace(x_low, x_high, no_of_generated_points), fun(np.linspace(x_low, x_high, no_of_generated_points)), 'g', np.linspace(x_low, x_high, no_of_generated_points), [0 for i in range(no_of_generated_points)], 'r')\n",
    "    plt.legend(['f(x)', 'x-axis'], loc =\"upper right\")\n",
    "    plt.title('Plot of f(x)', fontdict=font)\n",
    "    plt.ylabel('f(x)', fontdict=font)\n",
    "    plt.xlabel('x', fontdict=font)\n",
    "    plt.grid()\n",
    "    plt.show()"
   ]
  },
  {
   "cell_type": "code",
   "execution_count": 78,
   "metadata": {},
   "outputs": [],
   "source": [
    "def bisection(low, high, fun, error_tolerance, max_iter=150):\n",
    "    '''parameters:\n",
    "        low: lower bound guess\n",
    "        high: upper bound guess\n",
    "        fun: fun: function which takes x as input and returns f(x) as output\n",
    "    '''\n",
    "    assert fun(low) * fun(high) <= 0,'no single root in this interval'\n",
    "    assert max_iter > 0, 'invalid max_iter'\n",
    "    assert error_tolerance > 0, 'invalid error_tolerance'\n",
    "    prev_midx = None\n",
    "    for i in range(max_iter):\n",
    "        midx = (low + high)/2\n",
    "        if i > 0:\n",
    "            ea = np.absolute((midx - prev_midx)/midx)*100\n",
    "            if ea <= error_tolerance:\n",
    "                return midx\n",
    "        decider = fun(midx)*fun(high)\n",
    "        if decider < 0:\n",
    "            low = midx\n",
    "        elif decider > 0:\n",
    "            high = midx\n",
    "        else:\n",
    "            return midx\n",
    "        prev_midx = midx\n",
    "    return prev_midx"
   ]
  },
  {
   "cell_type": "code",
   "execution_count": 79,
   "metadata": {},
   "outputs": [],
   "source": [
    "def visualBisection(low, high, fun, error_tolerance, max_iter=150):\n",
    "    '''parameters:\n",
    "        low: lower bound guess\n",
    "        high: upper bound guess\n",
    "        fun: fun: function which takes x as input and returns f(x) as output\n",
    "    '''\n",
    "    assert fun(low) * fun(high) <= 0,'no single root in this interval'\n",
    "    assert max_iter > 0, 'invalid max_iter'\n",
    "    assert error_tolerance > 0, 'invalid error_tolerance'\n",
    "    prev_midx = None\n",
    "    for i in range(max_iter):\n",
    "        midx = (low + high)/2\n",
    "        if i > 0:\n",
    "            ea = np.absolute((midx - prev_midx)/midx)*100\n",
    "            print(f'Iteration: {i}\\nError: {ea:.6f}\\n')\n",
    "            if ea <= error_tolerance:\n",
    "                return midx\n",
    "        decider = fun(midx)*fun(high)\n",
    "        if decider < 0:\n",
    "            low = midx\n",
    "        elif decider > 0:\n",
    "            high = midx\n",
    "        else:\n",
    "            return midx\n",
    "        prev_midx = midx\n",
    "    return prev_midx"
   ]
  },
  {
   "cell_type": "code",
   "execution_count": 80,
   "metadata": {},
   "outputs": [],
   "source": [
    "# change the function as per your requirement\n",
    "def f(x):\n",
    "    fx = x**3 - 0.18*(x**2) + 4.752*(10**(-4))\n",
    "    return fx"
   ]
  },
  {
   "cell_type": "code",
   "execution_count": 81,
   "metadata": {},
   "outputs": [
    {
     "data": {
      "image/png": "[encoded data removed]",
      "text/plain": [
       "<Figure size 864x504 with 1 Axes>"
      ]
     },
     "metadata": {
      "needs_background": "light"
     },
     "output_type": "display_data"
    }
   ],
   "source": [
    "visualize(f, -0.5, 0.5) #-7 and 7 are the lowest and highest x-axis value in the following graph"
   ]
  },
  {
   "cell_type": "code",
   "execution_count": 82,
   "metadata": {},
   "outputs": [
    {
     "name": "stdout",
     "output_type": "stream",
     "text": [
      "One possible root: 0.063984\n"
     ]
    }
   ],
   "source": [
    "root = bisection(0, 0.12, f, 0.5, 20)\n",
    "print(f'One possible root: {root:0.6f}')"
   ]
  },
  {
   "cell_type": "code",
   "execution_count": 83,
   "metadata": {},
   "outputs": [
    {
     "name": "stdout",
     "output_type": "stream",
     "text": [
      "Iteration: 1\n",
      "Error: 33.333333\n",
      "\n",
      "Iteration: 2\n",
      "Error: 20.000000\n",
      "\n",
      "Iteration: 3\n",
      "Error: 11.111111\n",
      "\n",
      "Iteration: 4\n",
      "Error: 5.882353\n",
      "\n",
      "Iteration: 5\n",
      "Error: 2.857143\n",
      "\n",
      "Iteration: 6\n",
      "Error: 1.449275\n",
      "\n",
      "Iteration: 7\n",
      "Error: 0.729927\n",
      "\n",
      "Iteration: 8\n",
      "Error: 0.366300\n",
      "\n",
      "One possible root: 0.063984\n"
     ]
    }
   ],
   "source": [
    "root = visualBisection(0, .12,f, 0.5, 50)\n",
    "print(f'One possible root: {root:0.6f}')"
   ]
  }
 ],
 "metadata": {
  "interpreter": {
   "hash": "778e5173b1e1947a0d028f5df08fd323cf026bbc92c4c70b3bd1bdd860e920fb"
  },
  "kernelspec": {
   "display_name": "Python 3.8.8 64-bit ('base': conda)",
   "language": "python",
   "name": "python3"
  },
  "language_info": {
   "codemirror_mode": {
    "name": "ipython",
    "version": 3
   },
   "file_extension": ".py",
   "mimetype": "text/x-python",
   "name": "python",
   "nbconvert_exporter": "python",
   "pygments_lexer": "ipython3",
   "version": "3.9.7"
  },
  "orig_nbformat": 4
 },
 "nbformat": 4,
 "nbformat_minor": 2
}
